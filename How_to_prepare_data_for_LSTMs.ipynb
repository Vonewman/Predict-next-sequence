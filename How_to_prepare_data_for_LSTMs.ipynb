{
  "nbformat": 4,
  "nbformat_minor": 0,
  "metadata": {
    "colab": {
      "name": "How to prepare data for LSTMs.ipynb",
      "provenance": [],
      "authorship_tag": "ABX9TyPWdQdBMBf4Hi8qhjnlugVQ",
      "include_colab_link": true
    },
    "kernelspec": {
      "name": "python3",
      "display_name": "Python 3"
    }
  },
  "cells": [
    {
      "cell_type": "markdown",
      "metadata": {
        "id": "view-in-github",
        "colab_type": "text"
      },
      "source": [
        "<a href=\"https://colab.research.google.com/github/Vonewman/Predict-next-sequence/blob/master/How_to_prepare_data_for_LSTMs.ipynb\" target=\"_parent\"><img src=\"https://colab.research.google.com/assets/colab-badge.svg\" alt=\"Open In Colab\"/></a>"
      ]
    },
    {
      "cell_type": "markdown",
      "metadata": {
        "id": "OcdRpFPX9mAc"
      },
      "source": [
        "## Prepare numeric data"
      ]
    },
    {
      "cell_type": "markdown",
      "metadata": {
        "id": "EwukaUwF9qev"
      },
      "source": [
        "### 1. Normalize Series data"
      ]
    },
    {
      "cell_type": "code",
      "metadata": {
        "id": "acsjj5Bf6OWB"
      },
      "source": [
        "from pandas import Series\n",
        "from sklearn.preprocessing import MinMaxScaler"
      ],
      "execution_count": 1,
      "outputs": []
    },
    {
      "cell_type": "code",
      "metadata": {
        "id": "5r3KgR9s-qQj",
        "outputId": "afa913c8-8c56-4fbd-b4bf-8f36f8b5e483",
        "colab": {
          "base_uri": "https://localhost:8080/",
          "height": 208
        }
      },
      "source": [
        "# define contrived series\n",
        "data = [10.0, 20.0, 30.0, 40.0, 50.0, 60.0, 70.0, 80.0, 90.0, 100.0]\n",
        "series = Series(data)\n",
        "print(series)"
      ],
      "execution_count": 2,
      "outputs": [
        {
          "output_type": "stream",
          "text": [
            "0     10.0\n",
            "1     20.0\n",
            "2     30.0\n",
            "3     40.0\n",
            "4     50.0\n",
            "5     60.0\n",
            "6     70.0\n",
            "7     80.0\n",
            "8     90.0\n",
            "9    100.0\n",
            "dtype: float64\n"
          ],
          "name": "stdout"
        }
      ]
    },
    {
      "cell_type": "code",
      "metadata": {
        "id": "xePtSB8TBChj"
      },
      "source": [
        "# prepare data for normalization\n",
        "values = series.values\n",
        "values = values.reshape((len(values), 1))"
      ],
      "execution_count": 3,
      "outputs": []
    },
    {
      "cell_type": "code",
      "metadata": {
        "id": "xr3pWNlnB-K1"
      },
      "source": [
        "# train the normalization\n",
        "scaler = MinMaxScaler(feature_range=(0, 1))\n",
        "scaler = scaler.fit(values)"
      ],
      "execution_count": 10,
      "outputs": []
    },
    {
      "cell_type": "code",
      "metadata": {
        "id": "atqZa_eyCxZi",
        "outputId": "23f30b84-a0e5-4841-9916-d172f89a3a53",
        "colab": {
          "base_uri": "https://localhost:8080/",
          "height": 35
        }
      },
      "source": [
        "print(scaler)"
      ],
      "execution_count": 11,
      "outputs": [
        {
          "output_type": "stream",
          "text": [
            "MinMaxScaler(copy=True, feature_range=(0, 1))\n"
          ],
          "name": "stdout"
        }
      ]
    },
    {
      "cell_type": "code",
      "metadata": {
        "id": "ORjNP5PxCllG",
        "outputId": "229f96d9-07fe-482c-f5a9-384b9e1a7ef5",
        "colab": {
          "base_uri": "https://localhost:8080/",
          "height": 35
        }
      },
      "source": [
        "print('Min: %f, Max: %f '% (scaler.data_min_, scaler.data_max_))"
      ],
      "execution_count": 12,
      "outputs": [
        {
          "output_type": "stream",
          "text": [
            "Min: 10.000000, Max: 100.000000 \n"
          ],
          "name": "stdout"
        }
      ]
    },
    {
      "cell_type": "code",
      "metadata": {
        "id": "5gpxdi1CCtaT",
        "outputId": "7806bf14-a358-4f81-b719-95909cba119a",
        "colab": {
          "base_uri": "https://localhost:8080/",
          "height": 191
        }
      },
      "source": [
        "# normalize the dataset and print\n",
        "normalized = scaler.transform(values)\n",
        "print(normalized)"
      ],
      "execution_count": 13,
      "outputs": [
        {
          "output_type": "stream",
          "text": [
            "[[0.        ]\n",
            " [0.11111111]\n",
            " [0.22222222]\n",
            " [0.33333333]\n",
            " [0.44444444]\n",
            " [0.55555556]\n",
            " [0.66666667]\n",
            " [0.77777778]\n",
            " [0.88888889]\n",
            " [1.        ]]\n"
          ],
          "name": "stdout"
        }
      ]
    },
    {
      "cell_type": "code",
      "metadata": {
        "id": "kQBRafPvDQU7",
        "outputId": "8f47cd96-022d-4973-94f1-ca7aede9d640",
        "colab": {
          "base_uri": "https://localhost:8080/",
          "height": 191
        }
      },
      "source": [
        "# inverse transform and print\n",
        "inversed = scaler.inverse_transform(normalized)\n",
        "print(inversed)"
      ],
      "execution_count": 9,
      "outputs": [
        {
          "output_type": "stream",
          "text": [
            "[[ 10.]\n",
            " [ 20.]\n",
            " [ 30.]\n",
            " [ 40.]\n",
            " [ 50.]\n",
            " [ 60.]\n",
            " [ 70.]\n",
            " [ 80.]\n",
            " [ 90.]\n",
            " [100.]]\n"
          ],
          "name": "stdout"
        }
      ]
    },
    {
      "cell_type": "code",
      "metadata": {
        "id": "8-xxlPqQFGzF"
      },
      "source": [
        ""
      ],
      "execution_count": null,
      "outputs": []
    }
  ]
}